{
 "cells": [
  {
   "cell_type": "code",
   "execution_count": 1,
   "metadata": {},
   "outputs": [
    {
     "name": "stderr",
     "output_type": "stream",
     "text": [
      "Using TensorFlow backend.\n"
     ]
    }
   ],
   "source": [
    "from keras import Sequential\n"
   ]
  },
  {
   "cell_type": "code",
   "execution_count": 2,
   "metadata": {},
   "outputs": [],
   "source": [
    "from keras.layers import Convolution2D\n"
   ]
  },
  {
   "cell_type": "code",
   "execution_count": 3,
   "metadata": {},
   "outputs": [],
   "source": [
    "from keras.layers import MaxPooling2D"
   ]
  },
  {
   "cell_type": "code",
   "execution_count": 4,
   "metadata": {},
   "outputs": [],
   "source": [
    "from keras.layers import Flatten\n"
   ]
  },
  {
   "cell_type": "code",
   "execution_count": 5,
   "metadata": {},
   "outputs": [],
   "source": [
    "from keras.layers import Dense"
   ]
  },
  {
   "cell_type": "code",
   "execution_count": 6,
   "metadata": {},
   "outputs": [],
   "source": [
    "model=Sequential()"
   ]
  },
  {
   "cell_type": "code",
   "execution_count": 7,
   "metadata": {},
   "outputs": [
    {
     "name": "stdout",
     "output_type": "stream",
     "text": [
      "WARNING:tensorflow:From C:\\Users\\Arpan\\Anaconda3\\lib\\site-packages\\tensorflow\\python\\framework\\op_def_library.py:263: colocate_with (from tensorflow.python.framework.ops) is deprecated and will be removed in a future version.\n",
      "Instructions for updating:\n",
      "Colocations handled automatically by placer.\n"
     ]
    },
    {
     "name": "stderr",
     "output_type": "stream",
     "text": [
      "C:\\Users\\Arpan\\Anaconda3\\lib\\site-packages\\ipykernel_launcher.py:1: UserWarning: Update your `Conv2D` call to the Keras 2 API: `Conv2D(32, (3, 3), input_shape=(64, 64, 3..., activation=\"relu\")`\n",
      "  \"\"\"Entry point for launching an IPython kernel.\n"
     ]
    }
   ],
   "source": [
    "model.add(Convolution2D(32,3,3, input_shape=(64,64,3),activation='relu'))"
   ]
  },
  {
   "cell_type": "code",
   "execution_count": 8,
   "metadata": {},
   "outputs": [
    {
     "name": "stderr",
     "output_type": "stream",
     "text": [
      "C:\\Users\\Arpan\\Anaconda3\\lib\\site-packages\\ipykernel_launcher.py:1: UserWarning: Update your `Conv2D` call to the Keras 2 API: `Conv2D(32, (3, 3), activation=\"relu\")`\n",
      "  \"\"\"Entry point for launching an IPython kernel.\n"
     ]
    }
   ],
   "source": [
    "model.add(Convolution2D(32,3,3,activation='relu'))"
   ]
  },
  {
   "cell_type": "code",
   "execution_count": 9,
   "metadata": {},
   "outputs": [],
   "source": [
    "model.add(MaxPooling2D(pool_size=(3,3)))"
   ]
  },
  {
   "cell_type": "code",
   "execution_count": 10,
   "metadata": {},
   "outputs": [
    {
     "name": "stderr",
     "output_type": "stream",
     "text": [
      "C:\\Users\\Arpan\\Anaconda3\\lib\\site-packages\\ipykernel_launcher.py:1: UserWarning: Update your `Conv2D` call to the Keras 2 API: `Conv2D(32, (3, 3), activation=\"relu\")`\n",
      "  \"\"\"Entry point for launching an IPython kernel.\n"
     ]
    }
   ],
   "source": [
    "model.add(Convolution2D(32,3,3,activation='relu'))"
   ]
  },
  {
   "cell_type": "code",
   "execution_count": 11,
   "metadata": {},
   "outputs": [],
   "source": [
    "model.add(MaxPooling2D(pool_size=(2,2)))"
   ]
  },
  {
   "cell_type": "code",
   "execution_count": 12,
   "metadata": {},
   "outputs": [],
   "source": [
    "model.add(Flatten())"
   ]
  },
  {
   "cell_type": "code",
   "execution_count": 13,
   "metadata": {},
   "outputs": [],
   "source": [
    "model.add(Dense(units = 128, activation = 'relu'))\n",
    "model.add(Dense(units = 1, activation = 'sigmoid'))"
   ]
  },
  {
   "cell_type": "code",
   "execution_count": 14,
   "metadata": {},
   "outputs": [],
   "source": [
    "model.compile(optimizer='adam',loss='binary_crossentropy',metrics=['accuracy'])"
   ]
  },
  {
   "cell_type": "code",
   "execution_count": 15,
   "metadata": {},
   "outputs": [],
   "source": [
    "from keras.preprocessing.image import ImageDataGenerator"
   ]
  },
  {
   "cell_type": "code",
   "execution_count": 17,
   "metadata": {},
   "outputs": [
    {
     "name": "stdout",
     "output_type": "stream",
     "text": [
      "Found 1890 images belonging to 2 classes.\n",
      "Found 150 images belonging to 2 classes.\n",
      "WARNING:tensorflow:From C:\\Users\\Arpan\\Anaconda3\\lib\\site-packages\\tensorflow\\python\\ops\\math_ops.py:3066: to_int32 (from tensorflow.python.ops.math_ops) is deprecated and will be removed in a future version.\n",
      "Instructions for updating:\n",
      "Use tf.cast instead.\n",
      "Epoch 1/20\n",
      "1892/1892 [==============================] - 1833s 969ms/step - loss: 0.0578 - acc: 0.9834 - val_loss: 0.4724 - val_acc: 0.6674\n",
      "Epoch 2/20\n",
      "1892/1892 [==============================] - 1859s 983ms/step - loss: 0.0116 - acc: 0.9994 - val_loss: 0.5649 - val_acc: 0.6656\n",
      "Epoch 3/20\n",
      "1892/1892 [==============================] - 1878s 992ms/step - loss: 0.0070 - acc: 0.9988 - val_loss: 2.6870 - val_acc: 0.6744\n",
      "Epoch 4/20\n",
      "1892/1892 [==============================] - 2115s 1s/step - loss: 0.0023 - acc: 0.9995 - val_loss: 2.7339 - val_acc: 0.6656\n",
      "Epoch 5/20\n",
      "1892/1892 [==============================] - 1846s 976ms/step - loss: 3.8195e-04 - acc: 0.9999 - val_loss: 4.2100 - val_acc: 0.6673\n",
      "Epoch 6/20\n",
      "1892/1892 [==============================] - 1671s 883ms/step - loss: 7.6593e-06 - acc: 1.0000 - val_loss: 4.6174 - val_acc: 0.6661\n",
      "Epoch 7/20\n",
      "1892/1892 [==============================] - 1837s 971ms/step - loss: 0.0055 - acc: 0.9991 - val_loss: 4.1635 - val_acc: 0.6672\n",
      "Epoch 8/20\n",
      "1892/1892 [==============================] - 1942s 1s/step - loss: 2.4392e-05 - acc: 1.0000 - val_loss: 4.9390 - val_acc: 0.6656\n",
      "Epoch 9/20\n",
      "1892/1892 [==============================] - 1710s 904ms/step - loss: 0.0026 - acc: 0.9993 - val_loss: 4.6234 - val_acc: 0.6687\n",
      "Epoch 10/20\n",
      "1892/1892 [==============================] - 1684s 890ms/step - loss: 4.0904e-04 - acc: 0.9999 - val_loss: 4.1296 - val_acc: 0.6592\n",
      "Epoch 11/20\n",
      "1892/1892 [==============================] - 2379s 1s/step - loss: 0.0015 - acc: 0.9997 - val_loss: 4.9992 - val_acc: 0.6665\n",
      "Epoch 12/20\n",
      "1892/1892 [==============================] - 1788s 945ms/step - loss: 0.0045 - acc: 0.9993 - val_loss: 4.6562 - val_acc: 0.6731\n",
      "Epoch 13/20\n",
      "1892/1892 [==============================] - 1744s 922ms/step - loss: 0.0011 - acc: 0.9997 - val_loss: 4.8748 - val_acc: 0.6741\n",
      "Epoch 14/20\n",
      "1892/1892 [==============================] - 1640s 867ms/step - loss: 2.3449e-05 - acc: 1.0000 - val_loss: 5.0072 - val_acc: 0.6670\n",
      "Epoch 15/20\n",
      "1892/1892 [==============================] - 1641s 867ms/step - loss: 3.6430e-06 - acc: 1.0000 - val_loss: 5.1555 - val_acc: 0.6662\n",
      "Epoch 16/20\n",
      "1892/1892 [==============================] - 1683s 889ms/step - loss: 0.0020 - acc: 0.9996 - val_loss: 5.1326 - val_acc: 0.6676\n",
      "Epoch 17/20\n",
      "1892/1892 [==============================] - 1653s 874ms/step - loss: 7.6220e-07 - acc: 1.0000 - val_loss: 5.1750 - val_acc: 0.6667\n",
      "Epoch 18/20\n",
      "1892/1892 [==============================] - 2009s 1s/step - loss: 4.0166e-07 - acc: 1.0000 - val_loss: 5.2183 - val_acc: 0.6653\n",
      "Epoch 19/20\n",
      "1892/1892 [==============================] - 2064s 1s/step - loss: 2.2950e-07 - acc: 1.0000 - val_loss: 5.2074 - val_acc: 0.6665\n",
      "Epoch 20/20\n",
      "1892/1892 [==============================] - 1717s 908ms/step - loss: 1.5410e-07 - acc: 1.0000 - val_loss: 5.2057 - val_acc: 0.6671\n"
     ]
    },
    {
     "data": {
      "text/plain": [
       "<keras.callbacks.History at 0x2eb001c3f98>"
      ]
     },
     "execution_count": 17,
     "metadata": {},
     "output_type": "execute_result"
    }
   ],
   "source": [
    "train_datagen = ImageDataGenerator(rescale=1./255,\n",
    "                                    shear_range=0.2,\n",
    "                                    zoom_range=0.2,\n",
    "                                    horizontal_flip=True)\n",
    "\n",
    "test_datagen = ImageDataGenerator(rescale=1./255)\n",
    "\n",
    "training_set = train_datagen.flow_from_directory('.\\dataset1\\Training',\n",
    "        target_size=(64, 64),\n",
    "        batch_size=32,\n",
    "        class_mode='binary')\n",
    "\n",
    "test_set = test_datagen.flow_from_directory('.\\dataset1\\Test',\n",
    "        target_size=(64, 64),\n",
    "        batch_size=32,\n",
    "        class_mode='binary')\n",
    "\n",
    "model.fit_generator(\n",
    "        training_set,\n",
    "        steps_per_epoch=1892,\n",
    "        epochs=20,\n",
    "        validation_data=test_set,\n",
    "        validation_steps=152)"
   ]
  },
  {
   "cell_type": "code",
   "execution_count": 18,
   "metadata": {},
   "outputs": [],
   "source": [
    "import numpy as np"
   ]
  },
  {
   "cell_type": "code",
   "execution_count": 19,
   "metadata": {},
   "outputs": [],
   "source": [
    "from keras.preprocessing import image"
   ]
  },
  {
   "cell_type": "code",
   "execution_count": 192,
   "metadata": {},
   "outputs": [],
   "source": [
    "test_image=image.load_img('dataset1/SP_S_052.bmp',target_size=(64,64))"
   ]
  },
  {
   "cell_type": "code",
   "execution_count": 193,
   "metadata": {},
   "outputs": [],
   "source": [
    "test_image=image.img_to_array(test_image)"
   ]
  },
  {
   "cell_type": "code",
   "execution_count": 194,
   "metadata": {},
   "outputs": [],
   "source": [
    "test_image=np.expand_dims(test_image, axis=0)"
   ]
  },
  {
   "cell_type": "code",
   "execution_count": 195,
   "metadata": {},
   "outputs": [],
   "source": [
    "result=model.predict(test_image)"
   ]
  },
  {
   "cell_type": "code",
   "execution_count": 196,
   "metadata": {},
   "outputs": [
    {
     "data": {
      "text/plain": [
       "{'Mask': 0, 'Ori': 1}"
      ]
     },
     "execution_count": 196,
     "metadata": {},
     "output_type": "execute_result"
    }
   ],
   "source": [
    "training_set.class_indices"
   ]
  },
  {
   "cell_type": "code",
   "execution_count": 197,
   "metadata": {},
   "outputs": [],
   "source": [
    "if result[0][0]==1:\n",
    "    predictions='ori'\n",
    "else:\n",
    "    predictions='mask'"
   ]
  },
  {
   "cell_type": "code",
   "execution_count": 198,
   "metadata": {},
   "outputs": [
    {
     "data": {
      "text/plain": [
       "'mask'"
      ]
     },
     "execution_count": 198,
     "metadata": {},
     "output_type": "execute_result"
    }
   ],
   "source": [
    "predictions"
   ]
  },
  {
   "cell_type": "code",
   "execution_count": null,
   "metadata": {},
   "outputs": [],
   "source": []
  }
 ],
 "metadata": {
  "kernelspec": {
   "display_name": "Python 3",
   "language": "python",
   "name": "python3"
  },
  "language_info": {
   "codemirror_mode": {
    "name": "ipython",
    "version": 3
   },
   "file_extension": ".py",
   "mimetype": "text/x-python",
   "name": "python",
   "nbconvert_exporter": "python",
   "pygments_lexer": "ipython3",
   "version": "3.7.3"
  }
 },
 "nbformat": 4,
 "nbformat_minor": 2
}
